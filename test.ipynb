{
 "cells": [
  {
   "cell_type": "code",
   "execution_count": null,
   "id": "44e92474",
   "metadata": {},
   "outputs": [
    {
     "ename": "AttributeError",
     "evalue": "'str' object has no attribute 'name'",
     "output_type": "error",
     "traceback": [
      "\u001b[0;31m---------------------------------------------------------------------------\u001b[0m",
      "\u001b[0;31mAttributeError\u001b[0m                            Traceback (most recent call last)",
      "Cell \u001b[0;32mIn[2], line 54\u001b[0m\n\u001b[1;32m     50\u001b[0m         \u001b[38;5;28;01mraise\u001b[39;00m \u001b[38;5;167;01mValueError\u001b[39;00m(\u001b[38;5;124m\"\u001b[39m\u001b[38;5;124mUnsupported file type! Please upload a PDF, DOCX, or TXT file.\u001b[39m\u001b[38;5;124m\"\u001b[39m)\n\u001b[1;32m     52\u001b[0m     \u001b[38;5;28;01mreturn\u001b[39;00m text\n\u001b[0;32m---> 54\u001b[0m \u001b[43mtext_extraction_from_text\u001b[49m\u001b[43m(\u001b[49m\u001b[43muploaded_file\u001b[49m\u001b[38;5;241;43m=\u001b[39;49m\u001b[38;5;124;43m\"\u001b[39;49m\u001b[38;5;124;43mgravity.pdf\u001b[39;49m\u001b[38;5;124;43m\"\u001b[39;49m\u001b[43m)\u001b[49m\n",
      "Cell \u001b[0;32mIn[2], line 8\u001b[0m, in \u001b[0;36mtext_extraction_from_text\u001b[0;34m(uploaded_file)\u001b[0m\n\u001b[1;32m      7\u001b[0m \u001b[38;5;28;01mdef\u001b[39;00m\u001b[38;5;250m \u001b[39m\u001b[38;5;21mtext_extraction_from_text\u001b[39m(uploaded_file):\n\u001b[0;32m----> 8\u001b[0m     file_name \u001b[38;5;241m=\u001b[39m \u001b[43muploaded_file\u001b[49m\u001b[38;5;241;43m.\u001b[39;49m\u001b[43mname\u001b[49m\n\u001b[1;32m      9\u001b[0m     file_type \u001b[38;5;241m=\u001b[39m file_name\u001b[38;5;241m.\u001b[39msplit(\u001b[38;5;124m'\u001b[39m\u001b[38;5;124m.\u001b[39m\u001b[38;5;124m'\u001b[39m)[\u001b[38;5;241m-\u001b[39m\u001b[38;5;241m1\u001b[39m]\u001b[38;5;241m.\u001b[39mlower()\n\u001b[1;32m     10\u001b[0m     \u001b[38;5;28mprint\u001b[39m(\u001b[38;5;124mf\u001b[39m\u001b[38;5;124m\"\u001b[39m\u001b[38;5;124mFile uploaded: \u001b[39m\u001b[38;5;132;01m{\u001b[39;00mfile_name\u001b[38;5;132;01m}\u001b[39;00m\u001b[38;5;124m, Type: \u001b[39m\u001b[38;5;132;01m{\u001b[39;00mfile_type\u001b[38;5;132;01m}\u001b[39;00m\u001b[38;5;124m\"\u001b[39m)\n",
      "\u001b[0;31mAttributeError\u001b[0m: 'str' object has no attribute 'name'"
     ]
    }
   ],
   "source": [
    "import tempfile\n",
    "import fitz\n",
    "import docx2txt\n",
    "import os\n",
    "import io\n",
    "\n",
    "def text_extraction_from_text(uploaded_file):\n",
    "    file_name = uploaded_file.name\n",
    "    file_type = file_name.split('.')[-1].lower()\n",
    "    print(f\"File uploaded: {file_name}, Type: {file_type}\")\n",
    "\n",
    "    uploaded_file.seek(0)\n",
    "    try:\n",
    "        file_content = uploaded_file.read()\n",
    "        print(f\"First 500 bytes of file content: {file_content[:100]}\")\n",
    "    except Exception as e:\n",
    "        print(f\"Error reading file content: {e}\")\n",
    "        raise ValueError(f\"Error reading file: {e}\")\n",
    "\n",
    "    if file_type == \"pdf\":\n",
    "        with tempfile.NamedTemporaryFile(delete=False, suffix=\".pdf\") as tmp_file:\n",
    "            tmp_file.write(file_content)\n",
    "            tmp_path = tmp_file.name\n",
    "            print(f\"Temporary PDF file created at: {tmp_path}\")\n",
    "\n",
    "        try:\n",
    "            doc = fitz.open(tmp_path)\n",
    "            text = \"\"\n",
    "            for page in doc:\n",
    "                text += page.get_text()\n",
    "            doc.close()\n",
    "            os.remove(tmp_path)\n",
    "\n",
    "            print(f\"Extracted text from PDF: {text[:200]}\")\n",
    "        except Exception as e:\n",
    "            print(f\"Error extracting text from PDF: {e}\")\n",
    "            raise ValueError(f\"Error extracting text from PDF: {e}\")\n",
    "\n",
    "    elif file_type == \"docx\":\n",
    "        temp_bytes = io.BytesIO(file_content)\n",
    "        text = docx2txt.process(temp_bytes)\n",
    "        print(f\"Extracted text from DOCX: {text[:200]}\")\n",
    "\n",
    "    elif file_type == \"txt\":\n",
    "        text = file_content.decode('utf-8')\n",
    "        print(f\"Extracted text from TXT: {text[:200]}\")\n",
    "\n",
    "    else:\n",
    "        print(\"Unsupported file type.\")\n",
    "        raise ValueError(\"Unsupported file type! Please upload a PDF, DOCX, or TXT file.\")\n",
    "\n",
    "    return text\n",
    "\n"
   ]
  },
  {
   "cell_type": "code",
   "execution_count": null,
   "id": "e1910581",
   "metadata": {},
   "outputs": [],
   "source": []
  }
 ],
 "metadata": {
  "kernelspec": {
   "display_name": ".venv",
   "language": "python",
   "name": "python3"
  },
  "language_info": {
   "codemirror_mode": {
    "name": "ipython",
    "version": 3
   },
   "file_extension": ".py",
   "mimetype": "text/x-python",
   "name": "python",
   "nbconvert_exporter": "python",
   "pygments_lexer": "ipython3",
   "version": "3.10.12"
  }
 },
 "nbformat": 4,
 "nbformat_minor": 5
}
